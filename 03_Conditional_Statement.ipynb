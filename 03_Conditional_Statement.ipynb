{
  "cells": [
    {
      "cell_type": "markdown",
      "metadata": {
        "id": "REggfRaahiUV"
      },
      "source": [
        "**Programming Introduction + Python + Hands On**\n",
        "> **Professor: Sthefanie Passo**"
      ]
    },
    {
      "cell_type": "markdown",
      "metadata": {
        "id": "h9bdDcXI7HyM"
      },
      "source": [
        "# **Conditional Statement**\n",
        "\n",
        "Any computer program can be written\n",
        "combining the three basic types of\n",
        "programming:\n",
        "\n",
        "* Sequential Statement\n",
        "* Conditional Statement\n",
        "* Repetition Statement\n",
        "\n",
        "## **Sequential Statement**\n",
        "It is the simplest programming structure.\n",
        "The algorithm's command flows follow the same linear sequence as our common script:\n",
        "\n",
        "\n",
        "* Top to bottom\n",
        "*   From left to right\n",
        "Its basic structure is the repetition of **sequential command**:\n",
        "\n",
        "```\n",
        "Action1;\n",
        "```\n",
        "\n",
        "```\n",
        "Action1;\n",
        "Action2;\n",
        "Action3;\n",
        "Action4;\n",
        "Action5;\n",
        "```\n",
        "Example:"
      ]
    },
    {
      "cell_type": "code",
      "execution_count": null,
      "metadata": {
        "colab": {
          "base_uri": "https://localhost:8080/"
        },
        "id": "Fm76uCHX64Fm",
        "outputId": "78b821bf-31bf-4fbd-9636-c7c77a1c5981"
      },
      "outputs": [
        {
          "name": "stdout",
          "output_type": "stream",
          "text": [
            "The average is:  8.6\n"
          ]
        }
      ],
      "source": [
        "# Take the average from the grades\n",
        "g1, g2, g3 = 8.9, 8.0, 8.9\n",
        "average = (g1+g2+g3)/3\n",
        "print(\"The average is: \", average)"
      ]
    },
    {
      "cell_type": "markdown",
      "metadata": {
        "id": "mDWObQzSe3wo"
      },
      "source": [
        "## **Conditional Structure**\n",
        "The **IF ... ELSE** structure is the simplest control structure in programming language. This structure allows to execute one of **several blocks of instructions**.\n",
        "\n",
        "The control of which block will be executed is given by a condition, **numeric or logical expression**. This structure can be presented in two different ways: simple or compound conditional.\n",
        "\n",
        "In the end the condition will have a value of **True** or **False**\n",
        "\n",
        "![alt text](https://assets-global.website-files.com/6184b461a39ff1011f8c0582/620239fdd8763fe2a551f490_If-else%20Flowchart.png)\n",
        "\n",
        "Example of simple conditional structure:"
      ]
    },
    {
      "cell_type": "code",
      "execution_count": 3,
      "metadata": {
        "colab": {
          "base_uri": "https://localhost:8080/"
        },
        "id": "TfpEzzPu9Tf8",
        "outputId": "3fbabe9c-dd98-46b9-a2a5-21c625622bac"
      },
      "outputs": [],
      "source": [
        "grade = float(input(\"Digit your grade: \"))\n",
        "if (grade >= 5):\n",
        "    print(\"Congratulation!\")\n",
        "    "
      ]
    },
    {
      "cell_type": "markdown",
      "metadata": {
        "id": "jxlxUTsq9T16"
      },
      "source": [
        "Compound conditional: Decision of two blocks. It is also possible to write a structure that executes one between two blocks of instructions.\n",
        "\n",
        "![alt text](https://d1whtlypfis84e.cloudfront.net/guides/wp-content/uploads/2021/06/29090322/if-else-flowchart.jpg)\n",
        "\n",
        "Example:"
      ]
    },
    {
      "cell_type": "code",
      "execution_count": null,
      "metadata": {
        "colab": {
          "base_uri": "https://localhost:8080/"
        },
        "id": "Yw143uAC9bsq",
        "outputId": "df6d573f-1372-42bb-d98c-96c927b4134c"
      },
      "outputs": [
        {
          "name": "stdout",
          "output_type": "stream",
          "text": [
            "Digit your grade (0-10): 4\n",
            "Try again!\n"
          ]
        }
      ],
      "source": [
        "grade = float(input(\"Digit your grade (0-10): \"))\n",
        "if(grade > 5):\n",
        "  print(\"Congratulations!\")\n",
        "else:\n",
        "  print(\"Try again!\")\n"
      ]
    },
    {
      "cell_type": "markdown",
      "metadata": {
        "id": "-Bcs3uKPO2pX"
      },
      "source": [
        "Ternary operator\n",
        "\n",
        "\n",
        "\n",
        "```\n",
        "answer = a if a < b else b\n",
        "\n",
        "print(answer)\n",
        "```\n",
        "\n"
      ]
    },
    {
      "cell_type": "code",
      "execution_count": 5,
      "metadata": {
        "colab": {
          "base_uri": "https://localhost:8080/"
        },
        "id": "M5kFFxLgRDMJ",
        "outputId": "6b0f2080-bb65-49bd-f94e-a5dacebd7faa"
      },
      "outputs": [
        {
          "name": "stdout",
          "output_type": "stream",
          "text": [
            "Try again\n"
          ]
        }
      ],
      "source": [
        "grade = float(input(\"Digit your grade (0-10): \"))\n",
        "answer = \"Congratulations\" if grade >=5 else \"Try again\"\n",
        "print(answer)"
      ]
    },
    {
      "cell_type": "markdown",
      "metadata": {
        "id": "r5pbttxB-nqJ"
      },
      "source": [
        "In order for the **code blocks** to work according to the condition, we have to leave our code **idented** because otherwise it can generate errors.\n",
        "\n",
        "To identify, press the *tab*\n",
        "\n",
        "![alt text](https://d1whtlypfis84e.cloudfront.net/guides/wp-content/uploads/2021/06/29090812/Nested-if-flowchart.jpg)"
      ]
    },
    {
      "cell_type": "markdown",
      "metadata": {
        "id": "tfumSUfwQpc9"
      },
      "source": [
        "Follow the table and write the conditional statement according to the grade\n",
        "\n",
        "\n",
        "\n",
        "```\n",
        "Grade is greater or equal to 8-10   ->   Congratulations\n",
        "Grade is greater or equal to 7-8   ->    Good Job\n",
        "Grade is greater or equal to 5-7   ->    Better luck next time\n",
        "Lower then 5  ->    Fail\n",
        "```\n",
        "\n"
      ]
    },
    {
      "cell_type": "code",
      "execution_count": 12,
      "metadata": {
        "colab": {
          "base_uri": "https://localhost:8080/"
        },
        "id": "lXSypT-v_QDl",
        "outputId": "c5709d2b-b041-41e1-e0a8-2cdb56699dac"
      },
      "outputs": [
        {
          "name": "stdout",
          "output_type": "stream",
          "text": [
            "better luck next time\n"
          ]
        }
      ],
      "source": [
        "grade = float(input(\"Digit your grade (0-10): \"))\n",
        "if(grade >= 8 and grade <=10):\n",
        "    print(\"Congratulations!\")\n",
        "elif(grade >= 7):\n",
        "    print(\"Great Job\")\n",
        "elif(grade >= 5):\n",
        "    print(\"better luck next time\")\n",
        "else:\n",
        "    print(\"YOU FAILED SMH\")"
      ]
    },
    {
      "cell_type": "markdown",
      "metadata": {
        "id": "x30PWjUYICys"
      },
      "source": [
        "We will now see an example using **logical and arithmetic operators**, transforming the following sentence into an algorithm.\n",
        "\n",
        "First using the logical AND operator:\n",
        "\n",
        "**\"I go to the movie teather IF I have time AND money\".**"
      ]
    },
    {
      "cell_type": "code",
      "execution_count": null,
      "metadata": {
        "colab": {
          "base_uri": "https://localhost:8080/"
        },
        "id": "GZXgM4LAKzSd",
        "outputId": "cc3ae01f-2b58-4f11-c218-e64c7a415e0f"
      },
      "outputs": [
        {
          "name": "stdout",
          "output_type": "stream",
          "text": [
            "Do you have time (0,1): 0\n",
            "Do you have money (0,1): 1\n",
            "Maybe another day...\n"
          ]
        }
      ],
      "source": []
    },
    {
      "cell_type": "markdown",
      "metadata": {
        "id": "3eYtGULDrwWf"
      },
      "source": [
        "True Table AND (MULTIPLICATION 0 and 1)\n",
        "> T AND T = T //1 X 1 = 1\n",
        "\n",
        "> T AND F = F //1 X 0 = 0\n",
        "\n",
        "> F AND T = F //0 X 1 = 0\n",
        "\n",
        "> F AND F = F //0 X 0 = 0"
      ]
    },
    {
      "cell_type": "markdown",
      "metadata": {
        "id": "0CoKmmaSPHyr"
      },
      "source": [
        "And with the logical operator OR?\n",
        "\n",
        "Follow the thread:\n",
        "\n",
        "**\"I will go to the club IF my friends are there OR if my crush is there\".**"
      ]
    },
    {
      "cell_type": "code",
      "execution_count": null,
      "metadata": {},
      "outputs": [],
      "source": []
    },
    {
      "cell_type": "markdown",
      "metadata": {
        "id": "0R3FMiCUtJ4I"
      },
      "source": [
        "True Table OR (SUM 0 and 1)\n",
        "> T OR T = T //1 + 1 = 1\n",
        "\n",
        "> T OR F = T //1 + 0 = 1\n",
        "\n",
        "> F OR T = T //0 + 1 = 1\n",
        "\n",
        "> F OR F = F //0 + 0 = 0"
      ]
    },
    {
      "cell_type": "markdown",
      "metadata": {
        "id": "b_7ZQPSJ9sdf"
      },
      "source": [
        "Ready!\n",
        "\n",
        "Now that we have learned the main conditional structures and how to use them, **hands-on** !!!\n",
        "\n",
        "![alt text](https://media1.tenor.com/images/84e36470c3e534a5e71c208cd872d177/tenor.gif?itemid=6108221)"
      ]
    },
    {
      "cell_type": "markdown",
      "metadata": {
        "id": "7X2-cCJ4-N8y"
      },
      "source": [
        "# **Homework**\n",
        "\n",
        "**1)** Write an algorithm in Python that receives a name as input and checks if it is the same as its name. Print as appropriate:\n",
        "\n",
        "*   \"Correct name\"\n",
        "* \"Incorrect Name\"\n"
      ]
    },
    {
      "cell_type": "code",
      "execution_count": null,
      "metadata": {
        "id": "gAJAUSwm91g2"
      },
      "outputs": [],
      "source": [
        "secret = \"Maria\""
      ]
    },
    {
      "cell_type": "markdown",
      "metadata": {
        "id": "w1f89FOXAUJ9"
      },
      "source": [
        "**2)** Write an algorithm in python that reads three real numbers from the keyboard and verify that the first is greater than the sum of the other two."
      ]
    },
    {
      "cell_type": "code",
      "execution_count": null,
      "metadata": {
        "id": "IfOhpTgDAjWI"
      },
      "outputs": [],
      "source": [
        "#Digite seu codigo aqui\n",
        "conditional_ex01.cpp"
      ]
    },
    {
      "cell_type": "markdown",
      "metadata": {
        "id": "80pdEWY1AWwt"
      },
      "source": [
        "**3)** A technology store decided to make a mega promotion of console games. The game prices are identified by the colored labels, one in each game. Develop the algorithm that from the entry of the color of the label, the software shows the price. The store currently has the following price list:\n",
        "\n",
        "Green: R$ 10.00\n",
        "\n",
        "Blue: R$ 20.00\n",
        "\n",
        "Yellow: R$ 30.00\n",
        "\n",
        "Red: R$ 40.00"
      ]
    },
    {
      "cell_type": "code",
      "execution_count": null,
      "metadata": {
        "id": "ujnqyC2hAmbz"
      },
      "outputs": [],
      "source": [
        "#Digite seu codigo aqui"
      ]
    },
    {
      "cell_type": "markdown",
      "metadata": {
        "id": "ua9aWOgdjLND"
      },
      "source": [
        "**4)** Request 3 numbers from the user and print them in a crescent order using if and else statement.\n"
      ]
    },
    {
      "cell_type": "code",
      "execution_count": null,
      "metadata": {
        "id": "vE2DWRLOjL1O"
      },
      "outputs": [],
      "source": [
        "#lowest to highest"
      ]
    },
    {
      "cell_type": "markdown",
      "metadata": {},
      "source": [
        "5) Request 2 numbers and sort them"
      ]
    },
    {
      "cell_type": "code",
      "execution_count": 16,
      "metadata": {},
      "outputs": [
        {
          "name": "stdout",
          "output_type": "stream",
          "text": [
            "51 72\n",
            "**********************\n",
            "51 72\n"
          ]
        }
      ],
      "source": [
        "def sort_2_num():\n",
        "    num1 = int(input(\"Digit a number: \"))\n",
        "    num2 = int(input(\"Digit a number: \"))\n",
        "    if(num1 >= num2):\n",
        "        print(num2, num1)\n",
        "    else:\n",
        "        print(num1, num2)\n",
        "\n",
        "def sort_2num(num1, num2):\n",
        "    if(num1 >= num2):\n",
        "        print(num2, num1)\n",
        "    else:\n",
        "        print(num1, num2)\n",
        "\n",
        "sort_2_num()\n",
        "print(\"**********************\")\n",
        "sort_2num(51,72)"
      ]
    },
    {
      "cell_type": "markdown",
      "metadata": {
        "id": "dpBvbJBTl219"
      },
      "source": [
        "**6)** Help Starbucks giving 3 different options of coffee (iced caramel brulee latte, matcha latte, cappucino), temperature (hot or cold) and size (S,M,L). Calculate the final price of the order.\n"
      ]
    },
    {
      "cell_type": "code",
      "execution_count": 24,
      "metadata": {
        "id": "pxdlrOTol3aQ"
      },
      "outputs": [
        {
          "name": "stdout",
          "output_type": "stream",
          "text": [
            "Your temperature is: cold Your size is:  small\n",
            "1.5\n"
          ]
        }
      ],
      "source": [
        "def size_():\n",
        "    size = input(\"please indicate if you would like a small, medium or large drink\")\n",
        "    price = 0\n",
        "    if(size == \"small\"):\n",
        "        price = 1\n",
        "    elif(size == \"medium\"):\n",
        "        price = 2\n",
        "    elif(size == \"large\"):\n",
        "        price = 3\n",
        "    return size, price\n",
        "\n",
        "def temperature():\n",
        "    temp = int(input(\"What temperature you want your Starbucks drink (0: cold, 1:hot):\"))\n",
        "    price = 0\n",
        "    desc = \"\"\n",
        "    if(temp == 0):\n",
        "        price = 0.5\n",
        "        desc = \"cold\"\n",
        "    else:\n",
        "        price = 0.7\n",
        "        desc = \"hot\"\n",
        "    return desc, temp, price\n",
        "\n",
        "# type coffee\n",
        "\n",
        "desc, temp, price1 = temperature()\n",
        "size, price2 = size_()\n",
        "\n",
        "print(\"Your temperature is:\", desc, \"Your size is: \", size)\n",
        "print(price1+price2)#+price3)\n"
      ]
    },
    {
      "cell_type": "code",
      "execution_count": null,
      "metadata": {},
      "outputs": [],
      "source": []
    }
  ],
  "metadata": {
    "colab": {
      "provenance": []
    },
    "kernelspec": {
      "display_name": "Python 3.9.6 64-bit",
      "language": "python",
      "name": "python3"
    },
    "language_info": {
      "codemirror_mode": {
        "name": "ipython",
        "version": 3
      },
      "file_extension": ".py",
      "mimetype": "text/x-python",
      "name": "python",
      "nbconvert_exporter": "python",
      "pygments_lexer": "ipython3",
      "version": "3.9.6"
    },
    "vscode": {
      "interpreter": {
        "hash": "31f2aee4e71d21fbe5cf8b01ff0e069b9275f58929596ceb00d14d90e3e16cd6"
      }
    }
  },
  "nbformat": 4,
  "nbformat_minor": 0
}
